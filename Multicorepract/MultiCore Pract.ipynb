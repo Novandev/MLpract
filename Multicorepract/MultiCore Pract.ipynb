{
 "cells": [
  {
   "cell_type": "code",
   "execution_count": 18,
   "metadata": {},
   "outputs": [],
   "source": [
    "from concurrent.futures import ThreadPoolExecutor, ProcessPoolExecutor\n",
    "import pandas as pd\n",
    "import numpy as np\n",
    "import os\n",
    "import timeit\n",
    "# Notes on Multicore processsing\n",
    "# First define the function that you will be dropping into the pool\n",
    "# Next declare a function that can take thr number of partit\n",
    "\n",
    "ts_df = pd.DataFrame(np.random.random(size=(365, 3000)))\n",
    "\n",
    "\n",
    "\n",
    "def feature_calculation(df):\n",
    "    # create DataFrame and populate with stdDev\n",
    "    result = pd.DataFrame(df.std(axis=0))\n",
    "    result.columns = [\"stdDev\"]\n",
    "    \n",
    "    # mean\n",
    "    result[\"mean\"] = df.mean(axis=0)\n",
    "\n",
    "    # percentiles\n",
    "    for i in [0.1, 0.25, 0.5, 0.75, 0.9]:\n",
    "        result[str(int(i*100)) + \"perc\"] = df.quantile(q=i)\n",
    "\n",
    "    # percentile differences / amplitudes\n",
    "    result[\"diff_90perc10perc\"] = (result[\"10perc\"] - result[\"90perc\"])\n",
    "    result[\"diff_75perc25perc\"] = (result[\"75perc\"] - result[\"25perc\"])\n",
    "\n",
    "    # percentiles of lagged time-series\n",
    "    for lag in [10, 20, 30, 40, 50]:\n",
    "        for i in [0.1, 0.25, 0.5, 0.75, 0.9]:\n",
    "            result[\"lag\" + str(lag) + \"_\" + str(int(i*100)) + \"perc\"] = (df - df.shift(lag)).quantile(q=i)\n",
    "\n",
    "    # fft\n",
    "    df_fft = np.fft.fft(df, axis=0)  # fourier transform only along time axis\n",
    "    result[\"fft_angle_mean\"] = np.mean(np.angle(df_fft, deg=True), axis=0)\n",
    "    result[\"fft_angle_min\"] = np.min(np.angle(df_fft, deg=True), axis=0)\n",
    "    result[\"fft_angle_max\"] = np.max(np.angle(df_fft, deg=True), axis=0)\n",
    "    \n",
    "    return result\n",
    "\n",
    "\n",
    "def parallel_feature_calculation_concurent_processpool(df, partitions=10, processes=4):\n",
    "    # calculate features in paralell by splitting the dataframe into partitions and using paralell processes\n",
    "    \n",
    "    df_split = np.array_split(df, partitions, axis=1)  # split dataframe into partitions column wise\n",
    "    \n",
    "    with ProcessPoolExecutor(processes) as pool:        \n",
    "        df = pd.concat(pool.map(feature_calculation, df_split))\n",
    "    \n",
    "    return df\n",
    "\n",
    "\n",
    "\n",
    "from multiprocessing import Pool\n",
    "\n",
    "def parallel_feature_calculation_multiprocess(df, partitions=10, processes=4):\n",
    "    # calculate features in parallel by splitting the dataframe into partitions and using parallel processes\n",
    "    \n",
    "    pool = Pool(processes)\n",
    "    \n",
    "    df_split = np.array_split(df, partitions, axis=1)  # split dataframe into partitions column wise\n",
    "    \n",
    "    df = pd.concat(pool.map(feature_calculation, df_split))\n",
    "    pool.close()\n",
    "    pool.join()\n",
    "    \n",
    "    return df\n"
   ]
  },
  {
   "cell_type": "code",
   "execution_count": 19,
   "metadata": {},
   "outputs": [
    {
     "name": "stdout",
     "output_type": "stream",
     "text": [
      "14.2 s ± 2.08 s per loop (mean ± std. dev. of 7 runs, 1 loop each)\n"
     ]
    }
   ],
   "source": [
    "\n",
    "\n",
    "%timeit feature_calculation(ts_df)"
   ]
  },
  {
   "cell_type": "code",
   "execution_count": 20,
   "metadata": {},
   "outputs": [
    {
     "name": "stdout",
     "output_type": "stream",
     "text": [
      "13.9 s ± 0 ns per loop (mean ± std. dev. of 1 run, 1 loop each)\n"
     ]
    }
   ],
   "source": [
    "\n",
    "%timeit -n 1 -r 1 parallel_feature_calculation_concurent_processpool(ts_df, partitions=100, processes=4)\n",
    "\n"
   ]
  },
  {
   "cell_type": "code",
   "execution_count": 21,
   "metadata": {},
   "outputs": [
    {
     "name": "stdout",
     "output_type": "stream",
     "text": [
      "11 s ± 0 ns per loop (mean ± std. dev. of 1 run, 1 loop each)\n"
     ]
    }
   ],
   "source": [
    "\n",
    "%timeit -n 1 -r 1 parallel_feature_calculation_multiprocess(ts_df, partitions=100, processes=4)\n"
   ]
  },
  {
   "cell_type": "code",
   "execution_count": null,
   "metadata": {},
   "outputs": [],
   "source": []
  }
 ],
 "metadata": {
  "kernelspec": {
   "display_name": "Python 3",
   "language": "python",
   "name": "python3"
  },
  "language_info": {
   "codemirror_mode": {
    "name": "ipython",
    "version": 3
   },
   "file_extension": ".py",
   "mimetype": "text/x-python",
   "name": "python",
   "nbconvert_exporter": "python",
   "pygments_lexer": "ipython3",
   "version": "3.7.1"
  }
 },
 "nbformat": 4,
 "nbformat_minor": 2
}
